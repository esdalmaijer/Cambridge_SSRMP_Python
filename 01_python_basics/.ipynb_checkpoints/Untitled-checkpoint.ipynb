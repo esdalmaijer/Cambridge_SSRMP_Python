{
 "cells": [
  {
   "cell_type": "markdown",
   "metadata": {},
   "source": [
    "# Python Basics\n",
    "\n",
    "This worksheet will cover the basics of Python: types of values, variables, statements, functions, and classes. First, let's get some jargon out of the way.\n",
    "\n",
    "- **value type**: Programming languages can recognise several specific value types, including numbers and text. We'll go through all important types in this worksheet.\n",
    "- **variable**: A variable has a name, and is linked to a value. It's a way of keeping track of specific values in memory. For example, you could say `a = 3`. The value `3` is now linked to the variable `a`. You can refer to `a` later in your script.\n",
    "- **statement**: There are several types of statements. They are the building blocks of a programming language, and allow you to repeatedly run small pockets of code, or to run a bit of code only if a certain condition is met.\n",
    "- **function**: A function is a defined collection of code. It usually takes some input, processes this, and then returns some output. For example, the function `sum` takes as input a collection of numbers, adds them all together, and then returns the sum. Functions can be short and simple, or long and complex, and anything in between. Some functions are built into Python, some are inlcuded in external packages, and you can also write your own.\n",
    "- **class**: A class is a collection of variables and functions, all linked to the same **instance**. For example, you can think of a car as an *instance*: It has its own properties (like its top speed), and its own functions (like driving). The blueprint for a car is more like a *class*: It describes how a car should be built, for example with four wheels. Even when produced with the same blueprint (class), cars (instances) can be different from each other. For example, they could have different wheels, or a different colour."
   ]
  },
  {
   "cell_type": "code",
   "execution_count": null,
   "metadata": {},
   "outputs": [],
   "source": []
  }
 ],
 "metadata": {
  "kernelspec": {
   "display_name": "Python 3",
   "language": "python",
   "name": "python3"
  },
  "language_info": {
   "codemirror_mode": {
    "name": "ipython",
    "version": 2
   },
   "file_extension": ".py",
   "mimetype": "text/x-python",
   "name": "python",
   "nbconvert_exporter": "python",
   "pygments_lexer": "ipython2",
   "version": "2.7.12"
  }
 },
 "nbformat": 4,
 "nbformat_minor": 2
}
