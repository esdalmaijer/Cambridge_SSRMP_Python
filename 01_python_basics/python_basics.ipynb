{
 "cells": [
  {
   "cell_type": "markdown",
   "metadata": {},
   "source": [
    "# Python Basics\n",
    "\n",
    "This worksheet will cover the basics of Python: types of values, variables, statements, functions, and classes. First, let's get some jargon out of the way.\n",
    "\n",
    "- **value type**: Programming languages can recognise several specific value types, including numbers and text. We'll go through all important types in this worksheet.\n",
    "- **variable**: A variable has a name, and is linked to a value. It's a way of keeping track of specific values in memory. For example, you could say `a = 3`. The value `3` is now linked to the variable `a`. You can refer to `a` later in your script.\n",
    "- **statement**: There are several types of statements. They are the building blocks of a programming language, and allow you to repeatedly run small pockets of code, or to run a bit of code only if a certain condition is met.\n",
    "- **function**: A function is a defined collection of code. It usually takes some input, processes this, and then returns some output. For example, the function `sum` takes as input a collection of numbers, adds them all together, and then returns the sum. Functions can be short and simple, or long and complex, and anything in between. Some functions are built into Python, some are inlcuded in external packages, and you can also write your own.\n",
    "- **class**: A class is a collection of variables and functions, all linked to the same **instance**. For example, you can think of a car as an *instance*: It has its own properties (like its top speed), and its own functions (like driving). The blueprint for a car is more like a *class*: It describes how a car should be built, for example with four wheels. Even when produced with the same blueprint (class), cars (instances) can be different from each other. For example, they could have different wheels, or a different colour.\n",
    "\n",
    "If these descriptions seem a bit unclear still, don't worry: We're going to go through them in more detail in this worksheet."
   ]
  },
  {
   "cell_type": "markdown",
   "metadata": {},
   "source": [
    "## Numbers\n",
    "\n",
    "Numbers come in two formats: integers and floats. **Integers** are whole, undivided numbers like -2, 0, and 15. **Floats** (floating point) numbers are fractions, for example 3.1, 5.43, and 0.6666666666666667."
   ]
  },
  {
   "cell_type": "markdown",
   "metadata": {},
   "source": [
    "### Integers\n",
    "\n",
    "You can use integers in basic operations like addition, subtraction, multiplication, and division:"
   ]
  },
  {
   "cell_type": "code",
   "execution_count": null,
   "metadata": {},
   "outputs": [],
   "source": [
    "1 + 1"
   ]
  },
  {
   "cell_type": "code",
   "execution_count": null,
   "metadata": {},
   "outputs": [],
   "source": [
    "5 - 3"
   ]
  },
  {
   "cell_type": "code",
   "execution_count": null,
   "metadata": {},
   "outputs": [],
   "source": [
    "10 - 900"
   ]
  },
  {
   "cell_type": "code",
   "execution_count": null,
   "metadata": {},
   "outputs": [],
   "source": [
    "2 * 10"
   ]
  },
  {
   "cell_type": "code",
   "execution_count": null,
   "metadata": {},
   "outputs": [],
   "source": [
    "10 / 5"
   ]
  },
  {
   "cell_type": "markdown",
   "metadata": {},
   "source": [
    "Let's try allocating an integer to a **variable**, and do operations with that:"
   ]
  },
  {
   "cell_type": "code",
   "execution_count": null,
   "metadata": {},
   "outputs": [],
   "source": [
    "a = 3\n",
    "a * 2"
   ]
  },
  {
   "cell_type": "markdown",
   "metadata": {},
   "source": [
    "### Floats\n",
    "\n",
    "Floats can also be used in basic operations:"
   ]
  },
  {
   "cell_type": "code",
   "execution_count": null,
   "metadata": {},
   "outputs": [],
   "source": [
    "0.5 + 0.1"
   ]
  },
  {
   "cell_type": "code",
   "execution_count": null,
   "metadata": {},
   "outputs": [],
   "source": [
    "1.5 - 0.5"
   ]
  },
  {
   "cell_type": "code",
   "execution_count": null,
   "metadata": {},
   "outputs": [],
   "source": [
    "5.0 * 0.25"
   ]
  },
  {
   "cell_type": "code",
   "execution_count": null,
   "metadata": {},
   "outputs": [],
   "source": [
    "1.25 / 5.0"
   ]
  },
  {
   "cell_type": "markdown",
   "metadata": {},
   "source": [
    "You can do the same by assigning floats to variables:"
   ]
  },
  {
   "cell_type": "code",
   "execution_count": null,
   "metadata": {},
   "outputs": [],
   "source": [
    "a = 0.5\n",
    "b = 3.0\n",
    "a * b"
   ]
  },
  {
   "cell_type": "markdown",
   "metadata": {},
   "source": [
    "### Operations\n",
    "\n",
    "Aside from the basic addition (`+`), subtraction (`-`), multiplication (`*`), and division (`\\`), there are also operators to do exponentiation (`**`), integer division (`\\\\`), and to compute the remainder after division (`%`). Let's see them in action:"
   ]
  },
  {
   "cell_type": "markdown",
   "metadata": {},
   "source": [
    "#### Exponentiation\n",
    "\n",
    "Three square ($3^2$) and two to the power of eight ($2^8$):"
   ]
  },
  {
   "cell_type": "code",
   "execution_count": null,
   "metadata": {},
   "outputs": [],
   "source": [
    "3**2"
   ]
  },
  {
   "cell_type": "code",
   "execution_count": null,
   "metadata": {},
   "outputs": [],
   "source": [
    "2**8"
   ]
  },
  {
   "cell_type": "markdown",
   "metadata": {},
   "source": [
    "#### Division (integer and remainder)\n",
    "\n",
    "The result of a division can be a fraction, which can be expressed as a float. However, sometimes it can be useful to know the result as an integer and the remainder. For example, the outcome of five divided by two is 2.5, but can also be expressed as 2 with a remainder of 1. In Python, you can compute these as follows:"
   ]
  },
  {
   "cell_type": "code",
   "execution_count": null,
   "metadata": {},
   "outputs": [],
   "source": [
    "5 // 2"
   ]
  },
  {
   "cell_type": "code",
   "execution_count": null,
   "metadata": {},
   "outputs": [],
   "source": [
    "5 % 2"
   ]
  },
  {
   "cell_type": "markdown",
   "metadata": {},
   "source": [
    "### Should I be aware of the difference between int and float?\n",
    "\n",
    "Previously, divisions of two integers ignored the remainder. So `5/2` would be the same as `5//2`, both resulting in `2`. In Python 3 (the newest version), this is no longer the case: `5/2` should result in `2.5`. While this is an intuitive result to humans, many programming languages are more fussy about variable types. That an operation involving two integers results in a float could thus be considered a bit weird.\n",
    "\n",
    "As a human, you might be relieved that Python's behaviour maps onto your own, rather than on a more rigid interpretation of what numbers are. There are people who argue that this means you don't have to play attention to the distinction between integers and floats.\n",
    "\n",
    "Those people are wrong. At some point, you'll encounter functions that require integers, and can't deal with floats. This is important if you're dealing with undivisible quantities, like pixels: there's no such thing as half a pixel.\n",
    "\n",
    "That means that while `5` and `3` are both OK pixel values, `5/3` is NOT. This is easy to spot with numerical values, but less so if you can only see variable names `a/b`."
   ]
  },
  {
   "cell_type": "markdown",
   "metadata": {},
   "source": [
    "## Text strings\n",
    "\n",
    "Python can also deal with text values, in the form of the **string** type. Strings are denoted by single (`'`) or double (`\"`) quotes, or even three quotes (`'''` or `\"\"\"`). Par example:"
   ]
  },
  {
   "cell_type": "code",
   "execution_count": null,
   "metadata": {},
   "outputs": [],
   "source": [
    "\"This is a string\""
   ]
  },
  {
   "cell_type": "code",
   "execution_count": null,
   "metadata": {},
   "outputs": [],
   "source": [
    "'This is also a string'"
   ]
  },
  {
   "cell_type": "code",
   "execution_count": null,
   "metadata": {},
   "outputs": [],
   "source": [
    "\"\"\"This is a single string too\"\"\""
   ]
  },
  {
   "cell_type": "code",
   "execution_count": null,
   "metadata": {},
   "outputs": [],
   "source": [
    "'''This is not a string. Jokes, this totally is a string!'''"
   ]
  },
  {
   "cell_type": "markdown",
   "metadata": {},
   "source": [
    "Strings can also be empty:"
   ]
  },
  {
   "cell_type": "code",
   "execution_count": null,
   "metadata": {},
   "outputs": [],
   "source": [
    "\"\""
   ]
  },
  {
   "cell_type": "markdown",
   "metadata": {},
   "source": [
    "You can combine strings using the `+` operator:"
   ]
  },
  {
   "cell_type": "code",
   "execution_count": null,
   "metadata": {},
   "outputs": [],
   "source": [
    "\"Strings can be\" + \" combined!\""
   ]
  },
  {
   "cell_type": "markdown",
   "metadata": {},
   "source": [
    "And you can even use the `*` operator to multiply a string!"
   ]
  },
  {
   "cell_type": "code",
   "execution_count": null,
   "metadata": {},
   "outputs": [],
   "source": [
    "\"Cool,\" + 3 * \" cool\""
   ]
  },
  {
   "cell_type": "markdown",
   "metadata": {},
   "source": [
    "### Introducing print\n",
    "\n",
    "At this point, it might be good to learn about the `print` function. We'll get to functions n more detail later, but this one is good to known about in the context of strings. When running a script, output is not usually produced *unless you specifically request it*. The `print` function is a way to make this happen.\n",
    "\n",
    "For example, if you assign a value to variable `ghost` (either in a console or in a Jupyter Notebook), you don't get any visible feedback:"
   ]
  },
  {
   "cell_type": "code",
   "execution_count": null,
   "metadata": {},
   "outputs": [],
   "source": [
    "ghost = \"man wearing a sheet\""
   ]
  },
  {
   "cell_type": "markdown",
   "metadata": {},
   "source": [
    "Let's use print to shine some light on  what `ghost` is:"
   ]
  },
  {
   "cell_type": "code",
   "execution_count": null,
   "metadata": {},
   "outputs": [],
   "source": [
    "print(ghost)"
   ]
  },
  {
   "cell_type": "markdown",
   "metadata": {},
   "source": [
    "The `print` function can be used on any variable, not just on strings. It can be useful in scripts to check the value of a particular variable, or to give you periodic updates of what is happening."
   ]
  },
  {
   "cell_type": "markdown",
   "metadata": {},
   "source": [
    "### String formatting\n",
    "\n",
    "Strings come with their own formatting options. Specifically, you can use `{}` as a placeholder for a value that you might want to add later. An example:"
   ]
  },
  {
   "cell_type": "code",
   "execution_count": null,
   "metadata": {},
   "outputs": [],
   "source": [
    "s = \"I am {} years old\""
   ]
  },
  {
   "cell_type": "markdown",
   "metadata": {},
   "source": [
    "To assign a value to the wildcard, you can use the sting's `format` method:"
   ]
  },
  {
   "cell_type": "code",
   "execution_count": null,
   "metadata": {},
   "outputs": [],
   "source": [
    "print(s)\n",
    "print(s.format(42))\n",
    "print(s.format(\"twenty\"))\n",
    "print(s.format(2.5))"
   ]
  },
  {
   "cell_type": "markdown",
   "metadata": {},
   "source": [
    "## Collections\n",
    "\n",
    "So far you've only seen single values, whether numbers or texts. (Although strictly speaking a string could be considered a collection of single characters!) There are also variable types that allow you to combine those.\n",
    "\n",
    "A **tuple** is a collection of values:"
   ]
  },
  {
   "cell_type": "code",
   "execution_count": null,
   "metadata": {},
   "outputs": [],
   "source": [
    "a = (1, 2, 3)"
   ]
  },
  {
   "cell_type": "markdown",
   "metadata": {},
   "source": [
    "You can get at specific values in a list by using their **index**. For this, Python starts counting at 0. So, it you would like to get at the first value, you would use `a[0]`. The second value is at `a[1]`, and so on:"
   ]
  },
  {
   "cell_type": "code",
   "execution_count": null,
   "metadata": {},
   "outputs": [],
   "source": [
    "print(a[0])\n",
    "print(a[1])\n",
    "print(a[2])"
   ]
  },
  {
   "cell_type": "markdown",
   "metadata": {},
   "source": [
    "Tuples cannot be altered (they can be completely overwriten)"
   ]
  },
  {
   "cell_type": "code",
   "execution_count": null,
   "metadata": {},
   "outputs": [],
   "source": [
    "a[0] = 2"
   ]
  },
  {
   "cell_type": "markdown",
   "metadata": {},
   "source": [
    "An alternative that CAN be altered is the **list**:"
   ]
  },
  {
   "cell_type": "code",
   "execution_count": null,
   "metadata": {},
   "outputs": [],
   "source": [
    "a = [1, 2, 3]"
   ]
  },
  {
   "cell_type": "markdown",
   "metadata": {},
   "source": [
    "You can index lists in the same way as tuples:"
   ]
  },
  {
   "cell_type": "code",
   "execution_count": null,
   "metadata": {},
   "outputs": [],
   "source": [
    "print(a[0])\n",
    "print(a[1])\n",
    "print(a[2])"
   ]
  },
  {
   "cell_type": "markdown",
   "metadata": {},
   "source": [
    "You can alter any value in a list directly:"
   ]
  },
  {
   "cell_type": "code",
   "execution_count": null,
   "metadata": {},
   "outputs": [],
   "source": [
    "a[0] = a[0] + 5\n",
    "print(a)"
   ]
  },
  {
   "cell_type": "markdown",
   "metadata": {},
   "source": [
    "Altering the entire list at once is NOT possible:"
   ]
  },
  {
   "cell_type": "code",
   "execution_count": null,
   "metadata": {},
   "outputs": [],
   "source": [
    "a = a + 5"
   ]
  },
  {
   "cell_type": "markdown",
   "metadata": {},
   "source": [
    "## For loops\n",
    "\n",
    "If you do want to change all values in a list, you can do so one by one. (In the example below, the `+=` operator is used. This means \"add to this variable\". That means that `a = a + 5` is the same as `a += 5`)"
   ]
  },
  {
   "cell_type": "code",
   "execution_count": null,
   "metadata": {},
   "outputs": [],
   "source": [
    "a = [1, 2, 3]\n",
    "\n",
    "a[0] += 5\n",
    "a[1] += 5\n",
    "a[2] += 5"
   ]
  },
  {
   "cell_type": "markdown",
   "metadata": {},
   "source": [
    "For three values, this is still doable. But if your list has hundreds of values, having to type hundreds of additional lines would take FOR EVER! This is where loops come in!\n",
    "\n",
    "You can use a **for loop** to cycle through all values in a collection:"
   ]
  },
  {
   "cell_type": "code",
   "execution_count": null,
   "metadata": {},
   "outputs": [],
   "source": [
    "for value in a:\n",
    "    print(value)"
   ]
  },
  {
   "cell_type": "markdown",
   "metadata": {},
   "source": [
    "To be able to change the entire `a` list, you would need to be able to get all indices. There is a function that can do this! It's called `range`, and it provides a list with values from a starting point and an ending point. Here, the starting point should be 0 (the first index), and the ending point should be the length of the list. The length of the list can be computed with the `len` function."
   ]
  },
  {
   "cell_type": "code",
   "execution_count": null,
   "metadata": {},
   "outputs": [],
   "source": [
    "start = 0\n",
    "end = len(a)\n",
    "indices = range(start, end)\n",
    "print(indices)"
   ]
  },
  {
   "cell_type": "markdown",
   "metadata": {},
   "source": [
    "Now that you know how to get the indices, you can use them to index all values in `a` in a single for loop:"
   ]
  },
  {
   "cell_type": "code",
   "execution_count": null,
   "metadata": {},
   "outputs": [],
   "source": [
    "for i in range(0, len(a)):\n",
    "    print(a[i])"
   ]
  },
  {
   "cell_type": "markdown",
   "metadata": {},
   "source": [
    "Instead of printing all values in `a`, our plan was to change all values in `a`. So let's do that with our newfound ability to loop through all values in the list:"
   ]
  },
  {
   "cell_type": "code",
   "execution_count": null,
   "metadata": {},
   "outputs": [],
   "source": [
    "print(a)\n",
    "for i in range(0, len(a)):\n",
    "    a[i] += 5\n",
    "print(a)"
   ]
  },
  {
   "cell_type": "markdown",
   "metadata": {},
   "source": [
    "## Booleans and logic\n",
    "\n",
    "A *Boolean* is a variable that can only be one of two things: `True` or `False`, which is equivalent to `1` or `0`."
   ]
  },
  {
   "cell_type": "code",
   "execution_count": null,
   "metadata": {},
   "outputs": [],
   "source": [
    "a = True\n",
    "b = False"
   ]
  },
  {
   "cell_type": "markdown",
   "metadata": {},
   "source": [
    "The fact that Booleans are really `0` and `1` can lead to odd behaviour, for example when you multiple True with any number:"
   ]
  },
  {
   "cell_type": "code",
   "execution_count": null,
   "metadata": {},
   "outputs": [],
   "source": [
    "print(3 * True)\n",
    "print(-1 * True)"
   ]
  },
  {
   "cell_type": "markdown",
   "metadata": {},
   "source": [
    "If you want to combine Booleans in a more sensible way, you can use *logical operators*. These include `and`, `or`, and `not`.\n",
    "\n",
    "The `and` operator only returns `True` if ALL conditions are `True`:"
   ]
  },
  {
   "cell_type": "code",
   "execution_count": null,
   "metadata": {},
   "outputs": [],
   "source": [
    "print(True and True)\n",
    "print(True and False)\n",
    "print(False and False)"
   ]
  },
  {
   "cell_type": "markdown",
   "metadata": {},
   "source": [
    "The `or` operator returns `True` if ANY conditions are `True:"
   ]
  },
  {
   "cell_type": "code",
   "execution_count": null,
   "metadata": {},
   "outputs": [],
   "source": [
    "print(True or True)\n",
    "print(True or False)\n",
    "print(False or False)"
   ]
  },
  {
   "cell_type": "markdown",
   "metadata": {},
   "source": [
    "The `not` operator can reverse a Boolean:"
   ]
  },
  {
   "cell_type": "code",
   "execution_count": null,
   "metadata": {},
   "outputs": [],
   "source": [
    "print(not True)\n",
    "print(not False)"
   ]
  },
  {
   "cell_type": "markdown",
   "metadata": {},
   "source": [
    "### Comparisons\n",
    "\n",
    "Booleans can be the result of comparisons. You can check whether any two variables are the same by using the `==` operator:"
   ]
  },
  {
   "cell_type": "code",
   "execution_count": null,
   "metadata": {},
   "outputs": [],
   "source": [
    "print(3 == 5)\n",
    "print(10 == 10)\n",
    "print(\"a\" == \"b\")"
   ]
  },
  {
   "cell_type": "markdown",
   "metadata": {},
   "source": [
    "Other comparisons are \"smaller than\" (`<`), \"greater than\" (`>`), \"smaller than or equal to\" (`<=`), \"greater than or equal to\" (`>=`), and \"does not equal\" (`!=`)."
   ]
  },
  {
   "cell_type": "code",
   "execution_count": null,
   "metadata": {},
   "outputs": [],
   "source": [
    "print(2 < 3)\n",
    "print(\"a\" != \"b\")\n",
    "print(2 + 3 <= 8 - 3)"
   ]
  },
  {
   "cell_type": "markdown",
   "metadata": {},
   "source": [
    "The `and` operator can also be written as `&`, and the `or` operator can be written as `|`:"
   ]
  },
  {
   "cell_type": "code",
   "execution_count": null,
   "metadata": {},
   "outputs": [],
   "source": [
    "print(True and False)\n",
    "print(True & False)\n",
    "print(True or False)\n",
    "print(True | False)"
   ]
  },
  {
   "cell_type": "markdown",
   "metadata": {},
   "source": [
    "### If statements\n",
    "\n",
    "Booleans can be used in logic statements. One of these is the `if` statement, which can be used to run specific lines of code depending on a situation. For example, you might want to check if a value is even. An even value is divisible by two without a remainder."
   ]
  },
  {
   "cell_type": "code",
   "execution_count": null,
   "metadata": {},
   "outputs": [],
   "source": [
    "a = 4\n",
    "\n",
    "if a % 2 == 0:\n",
    "    print(\"This value is even!\")"
   ]
  },
  {
   "cell_type": "markdown",
   "metadata": {},
   "source": [
    "You can add alternative options to your if statement using `elif` (short for \"else if\"). In this case, you could check if a value is odd, meaning it will leave a remainder of 1 after being divided by two."
   ]
  },
  {
   "cell_type": "code",
   "execution_count": null,
   "metadata": {},
   "outputs": [],
   "source": [
    "a = 5\n",
    "\n",
    "if a % 2 == 0:\n",
    "    print(\"This value is even!\")\n",
    "elif a % 2 == 1:\n",
    "    print(\"This value is odd!\")"
   ]
  },
  {
   "cell_type": "markdown",
   "metadata": {},
   "source": [
    "In this case, the if statement covers all options, provided the variable `a` points to an integer. In cases where there are more options, you can add as many `elif` statements as you would like.\n",
    "\n",
    "In addition to `if` and `elif`, there is a \"catch-all\" type of statement too. You can use this to cover any options that hadn't yet been covered in your `if`s and `elif`s:"
   ]
  },
  {
   "cell_type": "code",
   "execution_count": null,
   "metadata": {},
   "outputs": [],
   "source": [
    "a = \"a\"\n",
    "\n",
    "if a < 0:\n",
    "    print(\"This value is negative.\")\n",
    "elif a > 0:\n",
    "    print(\"This value is positive.\")\n",
    "else:\n",
    "    print(\"This value must be 0!\")"
   ]
  },
  {
   "cell_type": "markdown",
   "metadata": {},
   "source": [
    "The above statement first checks if a value is below zero, then if it's above 0, and finally concludes that if the value was neither below nor above zero, it must be zero!\n",
    "\n",
    "You might have noticed that it is assumed that `a` points to a numerical value. You could try to make it a string or a Boolean, and see what happens. Seriously, try it! You might find that a string is misrecognised as a positive value, that `True` is also a positive value, and that `False` is zero.\n",
    "\n",
    "One way to avoid this mess, is to check whether `a` is actually a number. Checking a variable's type can be done with the `type` function:"
   ]
  },
  {
   "cell_type": "code",
   "execution_count": null,
   "metadata": {},
   "outputs": [],
   "source": [
    "a = 5\n",
    "\n",
    "if type(a) == int or type(a) == float:\n",
    "    print(\"This is a number!\")\n",
    "else:\n",
    "    print(\"This is not a number...\")"
   ]
  },
  {
   "cell_type": "markdown",
   "metadata": {},
   "source": [
    "### Nesting and indentation\n",
    "\n",
    "As you might have noticed, the if statements are followed by lines of code that are **indented**: They are four spaces ahead of the previous line. These four spaces are how Python know what should be run by the if statement.\n",
    "\n",
    "You can use this to **nest** if statements: Write one statement within another. Let's try this by combining the previous examples:"
   ]
  },
  {
   "cell_type": "code",
   "execution_count": null,
   "metadata": {},
   "outputs": [],
   "source": [
    "a = 5\n",
    "\n",
    "if type(a) == int or type(a) == float:\n",
    "    print(\"This is a number!\")\n",
    "    if a < 0:\n",
    "        print(\"This value is negative.\")\n",
    "    elif a > 0:\n",
    "        print(\"This value is positive.\")\n",
    "    else:\n",
    "        print(\"This value must be 0!\")\n",
    "else:\n",
    "    print(\"This is not a number...\")"
   ]
  },
  {
   "cell_type": "markdown",
   "metadata": {},
   "source": [
    "## Functions\n",
    "\n",
    "You already encountered four functions from basic Python: `print`, `type`, `len`, and `range`. You can also create your own! For example, you could take rewrite previous bit of code as a function.\n",
    "\n",
    "Function's require three things: a name (duh!), inputs, and outputs. Here, your function name could be `pos_or_neg`, because the code determines whether a value is positive, negative, or 0. The input is a numerical value (`number`, and the output is a string (`output`).\n",
    "\n",
    "In Python, you can write this using `def`:"
   ]
  },
  {
   "cell_type": "code",
   "execution_count": null,
   "metadata": {},
   "outputs": [],
   "source": [
    "def pos_or_neg(number):\n",
    "    if number < 0:\n",
    "        output = \"neg\"\n",
    "    elif number > 0:\n",
    "        output = \"pos\"\n",
    "    else:\n",
    "        output = \"0\"\n"
   ]
  },
  {
   "cell_type": "markdown",
   "metadata": {},
   "source": [
    "We can now use this function:"
   ]
  },
  {
   "cell_type": "code",
   "execution_count": null,
   "metadata": {},
   "outputs": [],
   "source": [
    "print(pos_or_neg(5))\n",
    "print(pos_or_neg(-10))"
   ]
  },
  {
   "cell_type": "markdown",
   "metadata": {},
   "source": [
    "OK, so you didn't actually see any output. Maybe it helps if you try printing the `output` variable directly?"
   ]
  },
  {
   "cell_type": "code",
   "execution_count": null,
   "metadata": {},
   "outputs": [],
   "source": [
    "print(output)"
   ]
  },
  {
   "cell_type": "markdown",
   "metadata": {},
   "source": [
    "Oh, no! An error!\n",
    "\n",
    "The variable `output` is **local** to the function. It exists within the function, but cannot be accessed outside of the function. OOPS!\n",
    "\n",
    "To make the output available outside of the function, it needs to be **returned**:"
   ]
  },
  {
   "cell_type": "code",
   "execution_count": null,
   "metadata": {},
   "outputs": [],
   "source": [
    "def pos_or_neg(number):\n",
    "    if number < 0:\n",
    "        output = \"neg\"\n",
    "    elif number > 0:\n",
    "        output = \"pos\"\n",
    "    else:\n",
    "        output = \"0\"\n",
    "    return output"
   ]
  },
  {
   "cell_type": "markdown",
   "metadata": {},
   "source": [
    "Let's try it now:"
   ]
  },
  {
   "cell_type": "code",
   "execution_count": null,
   "metadata": {},
   "outputs": [],
   "source": [
    "print(pos_or_neg(5))\n",
    "print(pos_or_neg(-10))\n",
    "print(pos_or_neg(0))"
   ]
  },
  {
   "cell_type": "markdown",
   "metadata": {},
   "source": [
    "We currently assume that the `number` variable passed by whoever uses the function is in fact a number. However, you can just as easily pass something else, and end up in trouble:"
   ]
  },
  {
   "cell_type": "code",
   "execution_count": null,
   "metadata": {},
   "outputs": [],
   "source": [
    "print(pos_or_neg(\"minus twelve\"))\n",
    "print(pos_or_neg(\"0\"))"
   ]
  },
  {
   "cell_type": "markdown",
   "metadata": {},
   "source": [
    "The same solution as before applies here too: You need to check whether the passed input value is actually a number. Only if it is a number, you can return something sensible. If it is not a number, you can pass `None`. This is a special variable type that basically is nothing."
   ]
  },
  {
   "cell_type": "code",
   "execution_count": null,
   "metadata": {},
   "outputs": [],
   "source": [
    "def pos_or_neg(number):\n",
    "    if type(number) is int or type(number) is float:\n",
    "        if number < 0:\n",
    "            output = \"neg\"\n",
    "        elif number > 0:\n",
    "            output = \"pos\"\n",
    "        else:\n",
    "            output = \"0\"\n",
    "    else:\n",
    "        output = None\n",
    "    return output"
   ]
  },
  {
   "cell_type": "markdown",
   "metadata": {},
   "source": [
    "Let's try!"
   ]
  },
  {
   "cell_type": "code",
   "execution_count": null,
   "metadata": {},
   "outputs": [],
   "source": [
    "print(pos_or_neg(5))\n",
    "print(pos_or_neg(0))\n",
    "print(pos_or_neg(-10))\n",
    "print(pos_or_neg(\"5\"))\n",
    "print(pos_or_neg(True))\n",
    "print(pos_or_neg(None))"
   ]
  },
  {
   "cell_type": "markdown",
   "metadata": {},
   "source": [
    "## Comments\n",
    "\n",
    "So far, you've only seen code that is runable. You could read it, but the main purpose was for the computer to read it. In addition to this, there is also code that is *not* intended for the computer. This is text that you add to your scripts specifically for humans who read the code. These can be notes to yourself, or to anyone else who might have to work with your code.\n",
    "\n",
    "Comments are super useful. You might not appreciate this right now, but human memory is fallible. Code that you read or wrote and understand now, is going to be completely unintelligible in a few weeks time. (Sometimes I don't even understand what I did before lunch...) Comments allow you to explain what each part of your code does.\n",
    "\n",
    "Let's add some comments to the function you wrote above. Comments are preceded by the pound sign (`#`), and Python will ignore them:"
   ]
  },
  {
   "cell_type": "code",
   "execution_count": null,
   "metadata": {},
   "outputs": [],
   "source": [
    "# Function definitions start with `def`, and require\n",
    "# that the input is specified between brackets. Here,\n",
    "# `number` is the input.\n",
    "def pos_or_neg(number):\n",
    "    # We can't assume that the passed value for `number`\n",
    "    # is in fact a number. Whether it is should thus be\n",
    "    # tested. The `type` function returns the type of\n",
    "    # the passed variable. Numbers can be of type `int`\n",
    "    # or `float`.\n",
    "    if type(number) is int or type(number) is float:\n",
    "        # All numbers below 0 are negative.\n",
    "        if number < 0:\n",
    "            output = \"neg\"\n",
    "        # All numbers above zero are positive.\n",
    "        elif number > 0:\n",
    "            output = \"pos\"\n",
    "        # This else statement should only be run if the\n",
    "        # value was not below 0, but also not above 0.\n",
    "        # The only number for which this is true is 0.\n",
    "        else:\n",
    "            output = \"0\"\n",
    "    # This else statement is run if the first if\n",
    "    # statement isn't True. This only hapens if the\n",
    "    # passed value for `number` was not an int or a\n",
    "    # float. In these cases, `None` should be returned.\n",
    "    else:\n",
    "        output = None\n",
    "    # The return statement makes sure that the output is\n",
    "    # available outside of this function. This means\n",
    "    # that the function can be called like this: \n",
    "    # `out = pos_or_neg(5)`\n",
    "    return output"
   ]
  },
  {
   "cell_type": "markdown",
   "metadata": {},
   "source": [
    "There is no such thing as *too* elaborate commenting. One general guideline is that the ratio of comments to code should be about 2:1. That means two-thirds of your script would be non-functional comments. (It is very rare to actually see this in practice, but it's much less rare to curse code that is under-commented!)"
   ]
  },
  {
   "cell_type": "markdown",
   "metadata": {},
   "source": [
    "# Modules that extend Python\n",
    "\n",
    "All of the above is available in Python without having to do anything. However, there are also functions that are tucked away in modules. Basic Python comes with a lot of these, each adding specific functionality. This includes, for example, the `math` module for mathematical operations (think `sin`, `cos`, `tan`, etc.), the `os` module for things relating to the operating system, `multiprocessing` and `threading` for parallel computing needs, and MANY more.\n",
    "\n",
    "These modules offer quite specific functionality, so there's a good chance you won't need them. To avoid any confusion or accidental overwriting of function/variable names, the additional modules are thus not loaded by default. Instead, you need to load them explicitly.\n",
    "\n",
    "For example, say that you wanted to use the number $\\pi$ in your script. It's a part of the `math` module, which you have to load before using it:"
   ]
  },
  {
   "cell_type": "code",
   "execution_count": null,
   "metadata": {},
   "outputs": [],
   "source": [
    "import math\n",
    "\n",
    "print(math.pi)"
   ]
  },
  {
   "cell_type": "markdown",
   "metadata": {},
   "source": [
    "## NumPy\n",
    "\n",
    "In addition to the built-in modules, there exist _many_ external packages that offer even more functionality. One of the most important ones is **NumPy**, short for numeric Python. This package is a crucial tool for many people, and basically unmissable to scientists.\n",
    "\n",
    "One of the cool elements of NumPy is the `array`. This is a variable type that can represent vectors or matrices of values, usually numerical value. (But they can also be strings, or any other variable type.) One of the main advantages of the NumPy array is that you can use arithmetic operations on the whole array. This is unlike the `list`, which had to be looped through. Side-by-side comparison:"
   ]
  },
  {
   "cell_type": "code",
   "execution_count": null,
   "metadata": {},
   "outputs": [],
   "source": [
    "import numpy\n",
    "\n",
    "# Change all values in a list:\n",
    "l = [1, 2, 3]\n",
    "for i in range(len(l)):\n",
    "    l[i] += 5\n",
    "print(l)\n",
    "\n",
    "# Change all values in a NumPy array:\n",
    "a = numpy.array([1,2,3])\n",
    "a += 5\n",
    "print(a)"
   ]
  },
  {
   "cell_type": "markdown",
   "metadata": {},
   "source": [
    "Arithmetic isn't the only thing you can do with a whole array. You can also compare all values in the whole array at the same time against a single value, or you can compare all values in one array against all values in an array of the same shape:"
   ]
  },
  {
   "cell_type": "code",
   "execution_count": null,
   "metadata": {},
   "outputs": [],
   "source": [
    "a = numpy.array([1, 2, 3, 4])\n",
    "b = numpy.array([0, 2, 0, 4])\n",
    "\n",
    "print(a == 2)\n",
    "print(a == b)"
   ]
  },
  {
   "cell_type": "markdown",
   "metadata": {},
   "source": [
    "The results of these comparisons are **Boolean arrays**. You can combine these in the same way as single Booleans:"
   ]
  },
  {
   "cell_type": "code",
   "execution_count": null,
   "metadata": {},
   "outputs": [],
   "source": [
    "a = numpy.array([True, False, True, False])\n",
    "b = numpy.array([True, True, False, False])\n",
    "\n",
    "print(a | b)\n",
    "print(a & b)"
   ]
  },
  {
   "cell_type": "markdown",
   "metadata": {},
   "source": [
    "NumPy is full of useful functions, and you will be seeing a lot more of it today!"
   ]
  }
 ],
 "metadata": {
  "kernelspec": {
   "display_name": "Python 3",
   "language": "python",
   "name": "python3"
  },
  "language_info": {
   "codemirror_mode": {
    "name": "ipython",
    "version": 2
   },
   "file_extension": ".py",
   "mimetype": "text/x-python",
   "name": "python",
   "nbconvert_exporter": "python",
   "pygments_lexer": "ipython2",
   "version": "2.7.12"
  }
 },
 "nbformat": 4,
 "nbformat_minor": 2
}
